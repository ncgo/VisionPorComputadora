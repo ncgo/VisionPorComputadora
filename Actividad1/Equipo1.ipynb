{
 "cells": [
  {
   "cell_type": "markdown",
   "id": "regular-oxide",
   "metadata": {},
   "source": [
    "# Actividad Integradora 1\n",
    "\n",
    "## Equipo 1\n",
    "\n",
    "David Alonso Cantú Martínez A00822455"
   ]
  },
  {
   "cell_type": "markdown",
   "id": "faced-upset",
   "metadata": {},
   "source": [
    "## Sección 1 Web Scrapping"
   ]
  },
  {
   "cell_type": "code",
   "execution_count": null,
   "id": "advised-message",
   "metadata": {},
   "outputs": [],
   "source": []
  }
 ],
 "metadata": {
  "kernelspec": {
   "display_name": "Python 3",
   "language": "python",
   "name": "python3"
  },
  "language_info": {
   "codemirror_mode": {
    "name": "ipython",
    "version": 3
   },
   "file_extension": ".py",
   "mimetype": "text/x-python",
   "name": "python",
   "nbconvert_exporter": "python",
   "pygments_lexer": "ipython3",
   "version": "3.7.9"
  }
 },
 "nbformat": 4,
 "nbformat_minor": 5
}
