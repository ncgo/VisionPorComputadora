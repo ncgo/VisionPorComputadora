{
 "cells": [
  {
   "cell_type": "markdown",
   "id": "warming-talent",
   "metadata": {},
   "source": [
    "# Actividad Integradora 2"
   ]
  },
  {
   "cell_type": "code",
   "execution_count": 8,
   "id": "polished-citizenship",
   "metadata": {},
   "outputs": [
    {
     "name": "stdout",
     "output_type": "stream",
     "text": [
      "Dame una palabra para buscar las imagenes: \n",
      "sharks\n"
     ]
    }
   ],
   "source": [
    "import requests\n",
    "from selenium import webdriver\n",
    "from selenium.webdriver.common.by import By\n",
    "from selenium.webdriver.support.ui import WebDriverWait\n",
    "from selenium.webdriver.common.keys import Keys\n",
    "from selenium.webdriver.support import expected_conditions as EC\n",
    "\n",
    "\n",
    "WEBSITE_URL = \"https://unsplash.com\"\n",
    "imgURL = []\n",
    "\n",
    "driver = webdriver.Edge('C:\\webdrivers\\msedgedriver.exe')\n",
    "print(\"Dame una palabra para buscar las imagenes: \")\n",
    "word = input()\n",
    "\n",
    "\n",
    "url = 'https://unsplash.com/s/photos/%s' % (word)\n",
    "driver.get(url)\n",
    "images= driver.find_elements_by_tag_name('img')\n",
    "for image in images:\n",
    "    src = image.get_attribute('srcset')\n",
    "    if src != None:\n",
    "        imgURL.append(src)"
   ]
  },
  {
   "cell_type": "code",
   "execution_count": 9,
   "id": "bridal-detail",
   "metadata": {
    "scrolled": true
   },
   "outputs": [
    {
     "name": "stdout",
     "output_type": "stream",
     "text": [
      "45\n"
     ]
    }
   ],
   "source": [
    "import math\n",
    "import os\n",
    "import subprocess\n",
    "print(len(imgURL))\n",
    "limits = math.floor((len(imgURL)*0.8))\n",
    "trainSet,testSet = imgURL[:limits],imgURL[limits:]\n",
    "\n",
    "trainFolder = f\"train/{word}/\"\n",
    "testFolder  = f\"test/{word}/\"\n",
    "\n",
    "os.makedirs(trainFolder)\n",
    "os.makedirs(testFolder)\n"
   ]
  },
  {
   "cell_type": "code",
   "execution_count": null,
   "id": "manufactured-posting",
   "metadata": {},
   "outputs": [],
   "source": [
    "for x in range(len(trainSet)):\n",
    "    webImg = requests.get(trainSet[x])\n",
    "    f = open(f\"./{trainFolder}img_{x}.png\",\"wb\")\n",
    "    f.write(webImg.content)\n",
    "    f.close()\n",
    "    \n",
    "for x in range(len(testSet)):\n",
    "    webImg = requests.get(testSet[x])\n",
    "    f = open(f\"./{testFolder}img_{x}.png\",\"wb\")\n",
    "    f.write(webImg.content)\n",
    "    f.close()\n"
   ]
  },
  {
   "cell_type": "code",
   "execution_count": null,
   "id": "active-pierre",
   "metadata": {},
   "outputs": [],
   "source": []
  }
 ],
 "metadata": {
  "kernelspec": {
   "display_name": "Python 3",
   "language": "python",
   "name": "python3"
  },
  "language_info": {
   "codemirror_mode": {
    "name": "ipython",
    "version": 3
   },
   "file_extension": ".py",
   "mimetype": "text/x-python",
   "name": "python",
   "nbconvert_exporter": "python",
   "pygments_lexer": "ipython3",
   "version": "3.7.9"
  }
 },
 "nbformat": 4,
 "nbformat_minor": 5
}
